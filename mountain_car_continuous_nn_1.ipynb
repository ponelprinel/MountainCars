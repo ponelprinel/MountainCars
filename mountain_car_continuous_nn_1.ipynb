{
 "cells": [
  {
   "cell_type": "code",
   "execution_count": 1,
   "metadata": {
    "_cell_guid": "b1076dfc-b9ad-4769-8c92-a6c4dae69d19",
    "_uuid": "8f2839f25d086af736a60e9eeb907d3b93b6e0e5"
   },
   "outputs": [
    {
     "name": "stderr",
     "output_type": "stream",
     "text": [
      "Using TensorFlow backend.\n"
     ]
    }
   ],
   "source": [
    "import numpy as np\n",
    "import pandas as pd\n",
    "import gym\n",
    "import copy\n",
    "import random\n",
    "import keras\n",
    "from keras.models import Model\n",
    "from keras.layers.core import Dense\n",
    "from keras.engine.input_layer import Input\n",
    "from keras.optimizers import Adam, RMSprop\n",
    "import sklearn\n",
    "import sklearn.preprocessing\n",
    "from scipy.stats import norm, truncnorm\n",
    "from numpy.random import seed\n",
    "SEED = 1337\n",
    "seed(SEED)"
   ]
  },
  {
   "cell_type": "code",
   "execution_count": 2,
   "metadata": {
    "_cell_guid": "79c7e3d0-c299-4dcb-8224-4455121ee9b0",
    "_uuid": "d629ff2d2480ee46fbb7e2d37f6b5fab8052498a"
   },
   "outputs": [],
   "source": [
    "env = gym.make(\"MountainCarContinuous-v0\")\n",
    "gamma = 0.99"
   ]
  },
  {
   "cell_type": "code",
   "execution_count": 3,
   "metadata": {},
   "outputs": [],
   "source": [
    "# Во избежание всякого зла будем нормализовать состояние\n",
    "state_space_samples = np.array([env.observation_space.sample() for x in range(10000)])\n",
    "scaler = sklearn.preprocessing.StandardScaler()\n",
    "scaler.fit(state_space_samples)\n",
    "\n",
    "def scale_state(state): \n",
    "    scaled = scaler.transform([state])\n",
    "    return scaled"
   ]
  },
  {
   "cell_type": "code",
   "execution_count": 4,
   "metadata": {},
   "outputs": [],
   "source": [
    "class Memory:\n",
    "    \"\"\"Хранилище записей\"\"\"\n",
    "    def __init__(self, volume):\n",
    "        self.volume = volume\n",
    "        self.memory = []\n",
    "\n",
    "    def push(self, element):\n",
    "        \"\"\"Сохраняет элемент в циклический буфер\"\"\"\n",
    "        if len(self.memory) < self.volume:\n",
    "            self.memory.append(element)\n",
    "        else:\n",
    "            self.memory.pop(0)\n",
    "            self.memory.append(element)\n",
    "\n",
    "    def sample(self, batch_size):\n",
    "        \"\"\"Возвращает случайную выборку указанного размера\"\"\"\n",
    "        return list(zip(*random.sample(self.memory, batch_size)))\n",
    "    \n",
    "    def __len__(self):\n",
    "        return len(self.memory)"
   ]
  },
  {
   "cell_type": "code",
   "execution_count": 5,
   "metadata": {},
   "outputs": [],
   "source": [
    "def create_model():\n",
    "    \"\"\"Возвращает критика и актора в виде одной сетки с двумя выходами\"\"\"\n",
    "    state = Input(shape=(2,), name='state')\n",
    "    x = Dense(200, activation='elu')(state)\n",
    "    x = Dense(200, activation='elu')(x)\n",
    "    output = Dense(1, activation='tanh', name='output')(x)\n",
    "    action = Dense(1, name='action')(output)\n",
    "    y = keras.layers.concatenate([state, output])\n",
    "    y = Dense(40, activation='elu')(y)\n",
    "    y = Dense(40, activation='elu')(y)   \n",
    "    value = Dense(1, name='value')(y)\n",
    "    model = Model(inputs=[state], outputs=[value, action])\n",
    "    # На всякий случай зануляем лосс у актора\n",
    "    optimizer = Adam(clipvalue=0.1)\n",
    "    model.compile(optimizer=optimizer, loss='mse', loss_weights=[1., 0.])\n",
    "    return model"
   ]
  },
  {
   "cell_type": "code",
   "execution_count": 6,
   "metadata": {},
   "outputs": [],
   "source": [
    "def get_action(model, state, eps):\n",
    "    \"\"\"Возвращает действие + шум с std равным eps\"\"\"\n",
    "    return [np.clip(norm.rvs(model.predict(state)[1][0], eps), -1, 1)]"
   ]
  },
  {
   "cell_type": "code",
   "execution_count": 7,
   "metadata": {},
   "outputs": [],
   "source": [
    "def update(model, target_model, batch):\n",
    "    state, action, reward, next_state, not_done = batch\n",
    "    y = target_model.predict(np.array(next_state))\n",
    "    y[0] = (reward + gamma * y[0].squeeze() * not_done).reshape(-1, 1)\n",
    "    model.fit({'state': np.array(state)}, {'value': y[0], 'action': y[1]}, verbose=0)"
   ]
  },
  {
   "cell_type": "code",
   "execution_count": 8,
   "metadata": {},
   "outputs": [],
   "source": [
    "def train():\n",
    "    batch_size = 32\n",
    "    n_episodes = 50\n",
    "    # Границы дисперсии шума для exploration\n",
    "    max_epsilon = 1.0\n",
    "    min_epsilon = 0.01\n",
    "    # Коэффициент обновления весов target\n",
    "    tau = 0.01\n",
    "    memory = Memory(10000)\n",
    "    model = create_model()\n",
    "    target_model = keras.models.clone_model(model)\n",
    "    rewards_mean = []\n",
    "    rewards_std = []\n",
    "    step = 0\n",
    "\n",
    "    for episode in range(n_episodes):        \n",
    "        state = env.reset()\n",
    "        done = False\n",
    "        while not done:\n",
    "            epsilon = max(max_epsilon - step * (max_epsilon - min_epsilon) / 100, min_epsilon)\n",
    "            action = get_action(model, scale_state(state), epsilon)\n",
    "            new_state, reward, done, _ = env.step(action)\n",
    "            modified_reward = reward\n",
    "            \n",
    "            memory.push((scale_state(state)[0], action, modified_reward, scale_state(new_state)[0], not done))\n",
    "            state = new_state\n",
    "            step += 1\n",
    "            # Тренируем model и обновляем веса target_model \n",
    "            if step > 100:\n",
    "                update(model, target_model, memory.sample(batch_size))\n",
    "                old_weights = np.array(target_model.get_weights()) * (1 - tau)\n",
    "                new_weights = np.array(model.get_weights()) * tau\n",
    "                target_model.set_weights(old_weights + new_weights)\n",
    "        \n",
    "        # Тестим модельку\n",
    "        list_of_rewards = []\n",
    "        list_of_steps = []\n",
    "        for i in range(10):\n",
    "            done = False\n",
    "            state = env.reset()\n",
    "            total_reward = 0\n",
    "            steps = 0\n",
    "            while not done:\n",
    "                action = get_action(target_model, scale_state(state), 0)\n",
    "                state, reward, done, _ = env.step(action)\n",
    "                total_reward += reward\n",
    "                steps += 1\n",
    "            list_of_rewards.append(total_reward)\n",
    "            list_of_steps.append(steps)\n",
    "        state = env.reset()\n",
    "        done = False\n",
    "        rewards_mean.append(np.mean(list_of_rewards))\n",
    "        rewards_std.append(np.std(list_of_rewards))\n",
    "        print('mean: %.2f, std: %.2f, average steps: %.2f' % (np.mean(list_of_rewards), np.std(list_of_rewards), np.mean(list_of_steps)))\n",
    "    return rewards_mean, rewards_std, model"
   ]
  },
  {
   "cell_type": "code",
   "execution_count": 9,
   "metadata": {},
   "outputs": [
    {
     "name": "stdout",
     "output_type": "stream",
     "text": [
      "mean: -91.87, std: 4.66, average steps: 999.00\n",
      "mean: -98.04, std: 2.14, average steps: 999.00\n",
      "mean: 30.74, std: 66.56, average steps: 516.70\n",
      "mean: 57.18, std: 53.73, average steps: 344.80\n",
      "mean: 55.59, std: 52.88, average steps: 359.30\n",
      "mean: 84.35, std: 5.01, average steps: 168.20\n",
      "mean: 50.03, std: 75.04, average steps: 305.40\n",
      "mean: 67.61, std: 55.97, average steps: 231.50\n",
      "mean: 87.57, std: 3.70, average steps: 129.80\n",
      "mean: 87.13, std: 4.23, average steps: 132.90\n",
      "mean: 67.88, std: 56.54, average steps: 224.80\n",
      "mean: 63.54, std: 58.41, average steps: 267.80\n",
      "mean: 70.15, std: 56.70, average steps: 202.10\n",
      "mean: 89.59, std: 1.05, average steps: 106.40\n",
      "mean: 89.40, std: 1.12, average steps: 109.10\n",
      "mean: 89.90, std: 0.36, average steps: 103.50\n",
      "mean: 90.23, std: 0.22, average steps: 99.50\n",
      "mean: 90.35, std: 0.21, average steps: 97.90\n",
      "mean: 90.46, std: 0.17, average steps: 96.80\n",
      "mean: 90.40, std: 0.29, average steps: 97.20\n",
      "mean: 90.42, std: 0.26, average steps: 97.10\n",
      "mean: 90.56, std: 0.17, average steps: 95.60\n",
      "mean: 90.69, std: 0.18, average steps: 94.30\n",
      "mean: 90.61, std: 0.26, average steps: 94.80\n",
      "mean: 90.74, std: 0.23, average steps: 93.60\n",
      "mean: 90.90, std: 0.06, average steps: 92.00\n",
      "mean: 90.70, std: 0.17, average steps: 94.00\n",
      "mean: 90.88, std: 0.16, average steps: 92.20\n",
      "mean: 90.93, std: 0.15, average steps: 91.50\n",
      "mean: 90.94, std: 0.36, average steps: 91.50\n",
      "mean: 90.96, std: 0.28, average steps: 91.20\n",
      "mean: 90.96, std: 0.32, average steps: 91.20\n",
      "mean: 91.16, std: 0.23, average steps: 89.30\n",
      "mean: 91.27, std: 0.10, average steps: 88.20\n",
      "mean: 91.25, std: 0.24, average steps: 88.30\n",
      "mean: 91.34, std: 0.11, average steps: 87.40\n",
      "mean: 91.25, std: 0.34, average steps: 88.40\n",
      "mean: 91.44, std: 0.30, average steps: 86.50\n",
      "mean: 91.39, std: 0.33, average steps: 86.90\n",
      "mean: 91.62, std: 0.12, average steps: 84.70\n",
      "mean: 91.57, std: 0.20, average steps: 85.10\n",
      "mean: 91.52, std: 0.33, average steps: 85.60\n",
      "mean: 91.67, std: 0.14, average steps: 84.10\n",
      "mean: 91.63, std: 0.32, average steps: 84.60\n",
      "mean: 91.73, std: 0.28, average steps: 83.60\n",
      "mean: 91.73, std: 0.21, average steps: 83.80\n",
      "mean: 92.02, std: 0.07, average steps: 80.90\n",
      "mean: 91.92, std: 0.18, average steps: 82.00\n",
      "mean: 91.99, std: 0.10, average steps: 81.10\n",
      "mean: 92.11, std: 0.08, average steps: 80.10\n"
     ]
    }
   ],
   "source": [
    "means, stds, train = train()"
   ]
  },
  {
   "cell_type": "code",
   "execution_count": 10,
   "metadata": {},
   "outputs": [],
   "source": [
    "import matplotlib.pyplot as plt\n",
    "%matplotlib inline"
   ]
  },
  {
   "cell_type": "code",
   "execution_count": 11,
   "metadata": {},
   "outputs": [
    {
     "data": {
      "image/png": "[encoded data removed]",
      "text/plain": [
       "<Figure size 432x288 with 1 Axes>"
      ]
     },
     "metadata": {
      "needs_background": "light"
     },
     "output_type": "display_data"
    }
   ],
   "source": [
    "plt.plot(means)\n",
    "plt.show()"
   ]
  }
 ],
 "metadata": {
  "kernelspec": {
   "display_name": "Python 3",
   "language": "python",
   "name": "python3"
  },
  "language_info": {
   "codemirror_mode": {
    "name": "ipython",
    "version": 3
   },
   "file_extension": ".py",
   "mimetype": "text/x-python",
   "name": "python",
   "nbconvert_exporter": "python",
   "pygments_lexer": "ipython3",
   "version": "3.7.0"
  }
 },
 "nbformat": 4,
 "nbformat_minor": 1
}
